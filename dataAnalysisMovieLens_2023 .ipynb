{
  "nbformat": 4,
  "nbformat_minor": 0,
  "metadata": {
    "colab": {
      "provenance": []
    },
    "kernelspec": {
      "name": "python3",
      "display_name": "Python 3"
    },
    "language_info": {
      "name": "python"
    }
  },
  "cells": [
    {
      "cell_type": "code",
      "execution_count": null,
      "metadata": {
        "id": "r_0OQSR6FfKR",
        "colab": {
          "base_uri": "https://localhost:8080/"
        },
        "outputId": "77340d5b-8448-4f58-e02b-1b65f7a67da6"
      },
      "outputs": [
        {
          "output_type": "stream",
          "name": "stdout",
          "text": [
            "\r0% [Working]\r            \rHit:1 https://cloud.r-project.org/bin/linux/ubuntu focal-cran40/ InRelease\n",
            "\r0% [Connecting to archive.ubuntu.com (91.189.91.39)] [Waiting for headers] [Wai\r                                                                               \rHit:2 http://security.ubuntu.com/ubuntu focal-security InRelease\n",
            "\r0% [Waiting for headers] [Waiting for headers] [Connecting to ppa.launchpad.net\r                                                                               \rHit:3 http://archive.ubuntu.com/ubuntu focal InRelease\n",
            "\r0% [Waiting for headers] [Waiting for headers] [Connecting to ppa.launchpad.net\r                                                                               \rHit:4 http://archive.ubuntu.com/ubuntu focal-updates InRelease\n",
            "\r                                                                               \r0% [Waiting for headers] [Waiting for headers] [Waiting for headers]\r                                                                    \rIgn:5 https://developer.download.nvidia.com/compute/machine-learning/repos/ubuntu2004/x86_64  InRelease\n",
            "\r                                                                    \r0% [Waiting for headers] [Waiting for headers]\r                                              \rHit:6 https://developer.download.nvidia.com/compute/cuda/repos/ubuntu2004/x86_64  InRelease\n",
            "\r0% [Waiting for headers] [Waiting for headers]\r                                              \rHit:7 https://developer.download.nvidia.com/compute/machine-learning/repos/ubuntu2004/x86_64  Release\n",
            "Hit:8 http://archive.ubuntu.com/ubuntu focal-backports InRelease\n",
            "Hit:9 http://ppa.launchpad.net/c2d4u.team/c2d4u4.0+/ubuntu focal InRelease\n",
            "Hit:10 http://ppa.launchpad.net/cran/libgit2/ubuntu focal InRelease\n",
            "Hit:11 http://ppa.launchpad.net/deadsnakes/ppa/ubuntu focal InRelease\n",
            "Hit:13 http://ppa.launchpad.net/graphics-drivers/ppa/ubuntu focal InRelease\n",
            "Hit:14 http://ppa.launchpad.net/ubuntugis/ppa/ubuntu focal InRelease\n",
            "Reading package lists... Done\n"
          ]
        }
      ],
      "source": [
        "!apt-get update\n",
        "# Download Java Virtual Machine (JVM)\n",
        "!apt-get install openjdk-8-jdk-headless -qq > /dev/null\n"
      ]
    },
    {
      "cell_type": "code",
      "source": [
        "# Download Spark\n",
        "!wget -q https://archive.apache.org/dist/spark/spark-3.2.1/spark-3.2.1-bin-hadoop3.2.tgz\n",
        "# Unzip the file\n",
        "!tar xf spark-3.2.1-bin-hadoop3.2.tgz"
      ],
      "metadata": {
        "id": "mJxhd-qtkHXk"
      },
      "execution_count": null,
      "outputs": []
    },
    {
      "cell_type": "code",
      "source": [
        "!pip install -q findspark"
      ],
      "metadata": {
        "id": "1w5nro2JkOLm"
      },
      "execution_count": null,
      "outputs": []
    },
    {
      "cell_type": "code",
      "source": [
        "# set your spark folder to your system path environment.\n",
        "import os\n",
        "os.environ[\"JAVA_HOME\"] = \"/usr/lib/jvm/java-8-openjdk-amd64\"\n",
        "os.environ[\"SPARK_HOME\"] = '/content/spark-3.2.1-bin-hadoop3.2'"
      ],
      "metadata": {
        "id": "l2Sq26M0IMsL"
      },
      "execution_count": null,
      "outputs": []
    },
    {
      "cell_type": "code",
      "source": [
        "!ls"
      ],
      "metadata": {
        "colab": {
          "base_uri": "https://localhost:8080/"
        },
        "id": "78rG5C5Ykh8p",
        "outputId": "f7db710f-c794-4808-aac2-c0bdbf65ab58"
      },
      "execution_count": null,
      "outputs": [
        {
          "output_type": "stream",
          "name": "stdout",
          "text": [
            "sample_data\t\t\t spark-3.2.1-bin-hadoop3.2\n",
            "spark-3.0.0-bin-hadoop3.2\t spark-3.2.1-bin-hadoop3.2.tgz\n",
            "spark-3.0.0-bin-hadoop3.2.tgz\t spark-3.2.1-bin-hadoop3.2.tgz.1\n",
            "spark-3.0.0-bin-hadoop3.2.tgz.1\n"
          ]
        }
      ]
    },
    {
      "cell_type": "code",
      "source": [
        "import findspark\n",
        "findspark.init()"
      ],
      "metadata": {
        "id": "nINgcik7Iq2L"
      },
      "execution_count": null,
      "outputs": []
    },
    {
      "cell_type": "code",
      "source": [
        "findspark.find()"
      ],
      "metadata": {
        "colab": {
          "base_uri": "https://localhost:8080/",
          "height": 36
        },
        "id": "7MHlaDg9kpF4",
        "outputId": "178648ad-d174-44a5-8107-318250163c33"
      },
      "execution_count": null,
      "outputs": [
        {
          "output_type": "execute_result",
          "data": {
            "text/plain": [
              "'/content/spark-3.2.1-bin-hadoop3.2'"
            ],
            "application/vnd.google.colaboratory.intrinsic+json": {
              "type": "string"
            }
          },
          "metadata": {},
          "execution_count": 7
        }
      ]
    },
    {
      "cell_type": "code",
      "source": [
        "!pip install pyspark"
      ],
      "metadata": {
        "colab": {
          "base_uri": "https://localhost:8080/"
        },
        "id": "YuZLyVNuF0kY",
        "outputId": "aee9a828-08c5-4f72-d81b-3263e9abd004"
      },
      "execution_count": null,
      "outputs": [
        {
          "output_type": "stream",
          "name": "stdout",
          "text": [
            "Looking in indexes: https://pypi.org/simple, https://us-python.pkg.dev/colab-wheels/public/simple/\n",
            "Requirement already satisfied: pyspark in /usr/local/lib/python3.8/dist-packages (3.3.2)\n",
            "Requirement already satisfied: py4j==0.10.9.5 in /usr/local/lib/python3.8/dist-packages (from pyspark) (0.10.9.5)\n"
          ]
        }
      ]
    },
    {
      "cell_type": "code",
      "source": [
        "import pyspark\n",
        "from pyspark.sql import SparkSession\n",
        "# Create a Spark Session\n",
        "spark = SparkSession.builder.master(\"local[*]\").getOrCreate()\n",
        "# Check Spark Session Information\n",
        "spark"
      ],
      "metadata": {
        "colab": {
          "base_uri": "https://localhost:8080/",
          "height": 219
        },
        "id": "vOqSi2eZF1fm",
        "outputId": "90eda001-a46a-4313-e299-4cb07136924b"
      },
      "execution_count": null,
      "outputs": [
        {
          "output_type": "execute_result",
          "data": {
            "text/plain": [
              "<pyspark.sql.session.SparkSession at 0x7ff36c399d30>"
            ],
            "text/html": [
              "\n",
              "            <div>\n",
              "                <p><b>SparkSession - in-memory</b></p>\n",
              "                \n",
              "        <div>\n",
              "            <p><b>SparkContext</b></p>\n",
              "\n",
              "            <p><a href=\"http://7be673509c64:4040\">Spark UI</a></p>\n",
              "\n",
              "            <dl>\n",
              "              <dt>Version</dt>\n",
              "                <dd><code>v3.2.1</code></dd>\n",
              "              <dt>Master</dt>\n",
              "                <dd><code>local[*]</code></dd>\n",
              "              <dt>AppName</dt>\n",
              "                <dd><code>pyspark-shell</code></dd>\n",
              "            </dl>\n",
              "        </div>\n",
              "        \n",
              "            </div>\n",
              "        "
            ]
          },
          "metadata": {},
          "execution_count": 13
        }
      ]
    },
    {
      "cell_type": "code",
      "source": [
        "from pyspark import SparkConf\n",
        "from pyspark.context import SparkContext\n",
        "\n",
        "sc = SparkContext.getOrCreate(SparkConf().setMaster(\"local[*]\"))\n",
        "sc"
      ],
      "metadata": {
        "colab": {
          "base_uri": "https://localhost:8080/",
          "height": 196
        },
        "id": "B8t8ZboRlBUL",
        "outputId": "ec973e23-a20d-4786-9850-20e55e4a5cb0"
      },
      "execution_count": null,
      "outputs": [
        {
          "output_type": "execute_result",
          "data": {
            "text/plain": [
              "<SparkContext master=local[*] appName=pyspark-shell>"
            ],
            "text/html": [
              "\n",
              "        <div>\n",
              "            <p><b>SparkContext</b></p>\n",
              "\n",
              "            <p><a href=\"http://7be673509c64:4040\">Spark UI</a></p>\n",
              "\n",
              "            <dl>\n",
              "              <dt>Version</dt>\n",
              "                <dd><code>v3.2.1</code></dd>\n",
              "              <dt>Master</dt>\n",
              "                <dd><code>local[*]</code></dd>\n",
              "              <dt>AppName</dt>\n",
              "                <dd><code>pyspark-shell</code></dd>\n",
              "            </dl>\n",
              "        </div>\n",
              "        "
            ]
          },
          "metadata": {},
          "execution_count": 14
        }
      ]
    },
    {
      "cell_type": "code",
      "source": [
        "data = [1, 2, 3, 4, 5]\n",
        "distData = sc.parallelize(data)"
      ],
      "metadata": {
        "id": "OAOBx1qQGHqu"
      },
      "execution_count": null,
      "outputs": []
    },
    {
      "cell_type": "code",
      "source": [
        "distData.collect()"
      ],
      "metadata": {
        "id": "UDVkT9JqGvFE",
        "colab": {
          "base_uri": "https://localhost:8080/"
        },
        "outputId": "9f9ccebb-1979-4658-92b6-304d9822230e"
      },
      "execution_count": null,
      "outputs": [
        {
          "output_type": "execute_result",
          "data": {
            "text/plain": [
              "[1, 2, 3, 4, 5]"
            ]
          },
          "metadata": {},
          "execution_count": 16
        }
      ]
    },
    {
      "cell_type": "code",
      "source": [
        "distData.top(2)"
      ],
      "metadata": {
        "colab": {
          "base_uri": "https://localhost:8080/"
        },
        "id": "6Xl_rgiBmHwf",
        "outputId": "dd022ab0-a5d4-46cb-b2fa-100c0416394e"
      },
      "execution_count": null,
      "outputs": [
        {
          "output_type": "execute_result",
          "data": {
            "text/plain": [
              "[5, 4]"
            ]
          },
          "metadata": {},
          "execution_count": 17
        }
      ]
    },
    {
      "cell_type": "code",
      "source": [
        "distData.take(3)"
      ],
      "metadata": {
        "colab": {
          "base_uri": "https://localhost:8080/"
        },
        "id": "9Gs2iwnpmJ6A",
        "outputId": "4e86073f-dfbf-4b2f-d2fd-5ab870bb7c54"
      },
      "execution_count": null,
      "outputs": [
        {
          "output_type": "execute_result",
          "data": {
            "text/plain": [
              "[1, 2, 3]"
            ]
          },
          "metadata": {},
          "execution_count": 18
        }
      ]
    },
    {
      "cell_type": "code",
      "source": [
        "distData.first()"
      ],
      "metadata": {
        "colab": {
          "base_uri": "https://localhost:8080/"
        },
        "id": "35yzaw9HmUrX",
        "outputId": "e8965539-9ac5-4fa5-8de1-f580464d9353"
      },
      "execution_count": null,
      "outputs": [
        {
          "output_type": "execute_result",
          "data": {
            "text/plain": [
              "1"
            ]
          },
          "metadata": {},
          "execution_count": 19
        }
      ]
    },
    {
      "cell_type": "code",
      "source": [
        "distData.count()"
      ],
      "metadata": {
        "colab": {
          "base_uri": "https://localhost:8080/"
        },
        "id": "CcmI_2LWndpj",
        "outputId": "792a93fa-a392-42cd-d598-5daab3ceae23"
      },
      "execution_count": null,
      "outputs": [
        {
          "output_type": "execute_result",
          "data": {
            "text/plain": [
              "5"
            ]
          },
          "metadata": {},
          "execution_count": 20
        }
      ]
    },
    {
      "cell_type": "code",
      "source": [
        "distData.reduce(lambda x,y : x+y)"
      ],
      "metadata": {
        "colab": {
          "base_uri": "https://localhost:8080/"
        },
        "id": "XAdA26rWnfVi",
        "outputId": "5a93f064-74ea-4244-c500-9122a9e65785"
      },
      "execution_count": null,
      "outputs": [
        {
          "output_type": "execute_result",
          "data": {
            "text/plain": [
              "15"
            ]
          },
          "metadata": {},
          "execution_count": 21
        }
      ]
    },
    {
      "cell_type": "code",
      "source": [
        "mappedData=distData.map(lambda x:x*x)"
      ],
      "metadata": {
        "id": "aaF3bCfCnjEH"
      },
      "execution_count": null,
      "outputs": []
    },
    {
      "cell_type": "code",
      "source": [
        "mappedData.collect()"
      ],
      "metadata": {
        "colab": {
          "base_uri": "https://localhost:8080/"
        },
        "id": "Z1wLJOUonxQx",
        "outputId": "3b95e9e7-f716-4a30-9e82-c3432a1db4b1"
      },
      "execution_count": null,
      "outputs": [
        {
          "output_type": "execute_result",
          "data": {
            "text/plain": [
              "[1, 4, 9, 16, 25]"
            ]
          },
          "metadata": {},
          "execution_count": 23
        }
      ]
    },
    {
      "cell_type": "code",
      "source": [
        "m=sc.parallelize([('apple',1),('orange',5),('apple',6),('orange',3)]).keys()"
      ],
      "metadata": {
        "id": "orb0XGdDnzek"
      },
      "execution_count": null,
      "outputs": []
    },
    {
      "cell_type": "code",
      "source": [
        "m.collect()"
      ],
      "metadata": {
        "colab": {
          "base_uri": "https://localhost:8080/"
        },
        "id": "6up3ERwbn1NO",
        "outputId": "d53b0066-f24e-40ea-fb96-8467cf50f38a"
      },
      "execution_count": null,
      "outputs": [
        {
          "output_type": "execute_result",
          "data": {
            "text/plain": [
              "['apple', 'orange', 'apple', 'orange']"
            ]
          },
          "metadata": {},
          "execution_count": 25
        }
      ]
    },
    {
      "cell_type": "code",
      "source": [
        "m=sc.parallelize([('apple',1),('orange',5),('apple',6),('orange',3)]).values()"
      ],
      "metadata": {
        "id": "ufHKMlkhn3GF"
      },
      "execution_count": null,
      "outputs": []
    },
    {
      "cell_type": "code",
      "source": [
        "m.collect()"
      ],
      "metadata": {
        "colab": {
          "base_uri": "https://localhost:8080/"
        },
        "id": "nQGerBgqn7yj",
        "outputId": "5803d98e-46ee-4ffb-f464-495fee04313c"
      },
      "execution_count": null,
      "outputs": [
        {
          "output_type": "execute_result",
          "data": {
            "text/plain": [
              "[1, 5, 6, 3]"
            ]
          },
          "metadata": {},
          "execution_count": 27
        }
      ]
    },
    {
      "cell_type": "code",
      "source": [
        "collection =['a', 'b', 'c','d','e']"
      ],
      "metadata": {
        "id": "CbVQlv-1n9rl"
      },
      "execution_count": null,
      "outputs": []
    },
    {
      "cell_type": "code",
      "source": [
        "rddfromcollection =sc.parallelize(collection)"
      ],
      "metadata": {
        "id": "tTFxlh9DoIbb"
      },
      "execution_count": null,
      "outputs": []
    },
    {
      "cell_type": "code",
      "source": [
        "rddfromcollection.collect()"
      ],
      "metadata": {
        "colab": {
          "base_uri": "https://localhost:8080/"
        },
        "id": "m9ticuRNoKLq",
        "outputId": "65f89fb6-112e-4fa4-b003-2cb66e451259"
      },
      "execution_count": null,
      "outputs": [
        {
          "output_type": "execute_result",
          "data": {
            "text/plain": [
              "['a', 'b', 'c', 'd', 'e']"
            ]
          },
          "metadata": {},
          "execution_count": 30
        }
      ]
    },
    {
      "cell_type": "code",
      "source": [
        "rdd = sc.parallelize([\"Hello VIT Hi VIT Welcome VIT\"])\n",
        "counts = rdd.flatMap(lambda line: line.split(\" \")) \\\n",
        "    .map(lambda word: (word, 1)) \\\n",
        "    .reduceByKey(lambda a, b: a + b) \\\n",
        "    .collect()\n",
        "print(counts)"
      ],
      "metadata": {
        "colab": {
          "base_uri": "https://localhost:8080/"
        },
        "id": "d57DIA_AoLh3",
        "outputId": "f72c49db-89c1-4542-9fcc-9b35fe391a36"
      },
      "execution_count": null,
      "outputs": [
        {
          "output_type": "stream",
          "name": "stdout",
          "text": [
            "[('Hello', 1), ('VIT', 3), ('Hi', 1), ('Welcome', 1)]\n"
          ]
        }
      ]
    },
    {
      "cell_type": "code",
      "source": [
        "sc"
      ],
      "metadata": {
        "colab": {
          "base_uri": "https://localhost:8080/",
          "height": 196
        },
        "id": "j0wbP_EBoRK0",
        "outputId": "77ca50d3-9b91-4c3c-f827-5e3b09b81b6a"
      },
      "execution_count": null,
      "outputs": [
        {
          "output_type": "execute_result",
          "data": {
            "text/plain": [
              "<SparkContext master=local[*] appName=pyspark-shell>"
            ],
            "text/html": [
              "\n",
              "        <div>\n",
              "            <p><b>SparkContext</b></p>\n",
              "\n",
              "            <p><a href=\"http://7be673509c64:4040\">Spark UI</a></p>\n",
              "\n",
              "            <dl>\n",
              "              <dt>Version</dt>\n",
              "                <dd><code>v3.2.1</code></dd>\n",
              "              <dt>Master</dt>\n",
              "                <dd><code>local[*]</code></dd>\n",
              "              <dt>AppName</dt>\n",
              "                <dd><code>pyspark-shell</code></dd>\n",
              "            </dl>\n",
              "        </div>\n",
              "        "
            ]
          },
          "metadata": {},
          "execution_count": 33
        }
      ]
    },
    {
      "cell_type": "code",
      "source": [
        "#Load data\n",
        "!wget http://files.grouplens.org/datasets/movielens/ml-100k.zip\n",
        "!unzip ml-100k.zip"
      ],
      "metadata": {
        "colab": {
          "base_uri": "https://localhost:8080/"
        },
        "id": "_jR6rh1roRxf",
        "outputId": "f7ca339c-bf6c-4665-83ef-c67021286a85"
      },
      "execution_count": null,
      "outputs": [
        {
          "output_type": "stream",
          "name": "stdout",
          "text": [
            "--2023-02-22 14:57:44--  http://files.grouplens.org/datasets/movielens/ml-100k.zip\n",
            "Resolving files.grouplens.org (files.grouplens.org)... 128.101.65.152\n",
            "Connecting to files.grouplens.org (files.grouplens.org)|128.101.65.152|:80... connected.\n",
            "HTTP request sent, awaiting response... 200 OK\n",
            "Length: 4924029 (4.7M) [application/zip]\n",
            "Saving to: ‘ml-100k.zip’\n",
            "\n",
            "ml-100k.zip         100%[===================>]   4.70M  25.0MB/s    in 0.2s    \n",
            "\n",
            "2023-02-22 14:57:44 (25.0 MB/s) - ‘ml-100k.zip’ saved [4924029/4924029]\n",
            "\n",
            "Archive:  ml-100k.zip\n",
            "   creating: ml-100k/\n",
            "  inflating: ml-100k/allbut.pl       \n",
            "  inflating: ml-100k/mku.sh          \n",
            "  inflating: ml-100k/README          \n",
            "  inflating: ml-100k/u.data          \n",
            "  inflating: ml-100k/u.genre         \n",
            "  inflating: ml-100k/u.info          \n",
            "  inflating: ml-100k/u.item          \n",
            "  inflating: ml-100k/u.occupation    \n",
            "  inflating: ml-100k/u.user          \n",
            "  inflating: ml-100k/u1.base         \n",
            "  inflating: ml-100k/u1.test         \n",
            "  inflating: ml-100k/u2.base         \n",
            "  inflating: ml-100k/u2.test         \n",
            "  inflating: ml-100k/u3.base         \n",
            "  inflating: ml-100k/u3.test         \n",
            "  inflating: ml-100k/u4.base         \n",
            "  inflating: ml-100k/u4.test         \n",
            "  inflating: ml-100k/u5.base         \n",
            "  inflating: ml-100k/u5.test         \n",
            "  inflating: ml-100k/ua.base         \n",
            "  inflating: ml-100k/ua.test         \n",
            "  inflating: ml-100k/ub.base         \n",
            "  inflating: ml-100k/ub.test         \n"
          ]
        }
      ]
    },
    {
      "cell_type": "code",
      "source": [
        "#Load data\n",
        "user_data = sc.textFile(\"/content/ml-100k/u.user\")"
      ],
      "metadata": {
        "id": "gMFO8eU3oVfR"
      },
      "execution_count": null,
      "outputs": []
    },
    {
      "cell_type": "code",
      "source": [
        "user_data.take(5)"
      ],
      "metadata": {
        "colab": {
          "base_uri": "https://localhost:8080/"
        },
        "id": "53vLnO1Noatx",
        "outputId": "0df2e328-16c8-4b2d-e61c-755aa4772f91"
      },
      "execution_count": null,
      "outputs": [
        {
          "output_type": "execute_result",
          "data": {
            "text/plain": [
              "['1|24|M|technician|85711',\n",
              " '2|53|F|other|94043',\n",
              " '3|23|M|writer|32067',\n",
              " '4|24|M|technician|43537',\n",
              " '5|33|F|other|15213']"
            ]
          },
          "metadata": {},
          "execution_count": 36
        }
      ]
    },
    {
      "cell_type": "code",
      "source": [
        "#count number of users\n",
        "user_fields = user_data.map(lambda line: line.split(\"|\"))\n",
        "num_users = user_fields.map(lambda fields: fields[0]).count()"
      ],
      "metadata": {
        "id": "50U-NTjbocJD"
      },
      "execution_count": null,
      "outputs": []
    },
    {
      "cell_type": "code",
      "source": [
        "#count number of genders\n",
        "num_genders = user_fields.map(lambda fields:\n",
        "fields[2]).distinct().count()"
      ],
      "metadata": {
        "id": "-vTT1eNQoe4i"
      },
      "execution_count": null,
      "outputs": []
    },
    {
      "cell_type": "code",
      "source": [
        "#count number of Occupations\n",
        "num_occupations = user_fields.map(lambda fields:\n",
        "fields[3]).distinct().count()"
      ],
      "metadata": {
        "id": "0K6UOiptog93"
      },
      "execution_count": null,
      "outputs": []
    },
    {
      "cell_type": "code",
      "source": [
        "#count number of zipcodes\n",
        "num_zipcodes = user_fields.map(lambda fields:\n",
        "fields[4]).distinct().count()"
      ],
      "metadata": {
        "id": "BCiAymY_oiXP"
      },
      "execution_count": null,
      "outputs": []
    },
    {
      "cell_type": "code",
      "source": [
        "print(\"Users: \",num_users, \"Genders:\",num_genders,\"Occupation:\", num_occupations, \"ZipCodes:\",num_zipcodes)"
      ],
      "metadata": {
        "colab": {
          "base_uri": "https://localhost:8080/"
        },
        "id": "B70FoB4jok8Z",
        "outputId": "6c694d0f-a029-40e2-b5dd-f67179942e98"
      },
      "execution_count": null,
      "outputs": [
        {
          "output_type": "stream",
          "name": "stdout",
          "text": [
            "Users:  943 Genders: 2 Occupation: 21 ZipCodes: 795\n"
          ]
        }
      ]
    },
    {
      "cell_type": "code",
      "source": [
        "import matplotlib.pyplot as plt\n",
        "import numpy as np"
      ],
      "metadata": {
        "id": "I4-JZafZonCy"
      },
      "execution_count": null,
      "outputs": []
    },
    {
      "cell_type": "code",
      "source": [
        "#a histogram to analyze the distribution of user ages\n",
        "ages = user_fields.map(lambda x: int(x[1])).collect()\n",
        "plt.hist(ages, bins=20, color='lightblue')\n",
        "plt.show()"
      ],
      "metadata": {
        "colab": {
          "base_uri": "https://localhost:8080/",
          "height": 265
        },
        "id": "2L-_4eSRoqW4",
        "outputId": "485376a1-2a9f-41f3-ef55-e8b69c3a742a"
      },
      "execution_count": null,
      "outputs": [
        {
          "output_type": "display_data",
          "data": {
            "text/plain": [
              "<Figure size 432x288 with 1 Axes>"
            ],
            "image/png": "[encoded data removed]"
          },
          "metadata": {
            "needs_background": "light"
          }
        }
      ]
    },
    {
      "cell_type": "code",
      "source": [
        "#frequencies of the various occupations of our users\n",
        "#mapreduce to count occurences of each occupation\n",
        "\n",
        "count_by_occupation = user_fields.map(lambda fields: (fields[3], 1)).reduceByKey(lambda x, y: x + y).collect()\n",
        "x_axis1 = np.array([c[0] for c in count_by_occupation])\n",
        "y_axis1 = np.array([c[1] for c in count_by_occupation])"
      ],
      "metadata": {
        "id": "y39ErQcZosLU"
      },
      "execution_count": null,
      "outputs": []
    },
    {
      "cell_type": "code",
      "source": [
        "user_fields.take(5)"
      ],
      "metadata": {
        "colab": {
          "base_uri": "https://localhost:8080/"
        },
        "id": "HdU8I-xJoyU9",
        "outputId": "4e02d35d-9a2e-4578-b382-9a5a26a4daa8"
      },
      "execution_count": null,
      "outputs": [
        {
          "output_type": "execute_result",
          "data": {
            "text/plain": [
              "[['1', '24', 'M', 'technician', '85711'],\n",
              " ['2', '53', 'F', 'other', '94043'],\n",
              " ['3', '23', 'M', 'writer', '32067'],\n",
              " ['4', '24', 'M', 'technician', '43537'],\n",
              " ['5', '33', 'F', 'other', '15213']]"
            ]
          },
          "metadata": {},
          "execution_count": 45
        }
      ]
    },
    {
      "cell_type": "markdown",
      "source": [
        "#Sort the count data\n",
        "First create 2 numpy arrays - use argsort method of numpy select elements of each array"
      ],
      "metadata": {
        "id": "4Kf7daMzp_Aa"
      }
    },
    {
      "cell_type": "code",
      "source": [
        "x_axis = x_axis1[np.argsort(y_axis1)]\n",
        "y_axis = y_axis1[np.argsort(y_axis1)]"
      ],
      "metadata": {
        "id": "BdgLrQlDozz_"
      },
      "execution_count": null,
      "outputs": []
    },
    {
      "cell_type": "code",
      "source": [
        "import matplotlib\n",
        "import matplotlib.pyplot as plt\n",
        "pos = np.arange(len(x_axis))\n",
        "width = 1.0\n",
        "ax = plt.axes()\n",
        "ax.set_xticks(pos + (width / 2))\n",
        "ax.set_xticklabels(x_axis)\n",
        "plt.bar(pos, y_axis, width, color='lightblue')\n",
        "plt.xticks(rotation=30)\n",
        "fig = matplotlib.pyplot.gcf()\n",
        "fig.set_size_inches(16, 10)"
      ],
      "metadata": {
        "colab": {
          "base_uri": "https://localhost:8080/",
          "height": 626
        },
        "id": "XuNVc8VdqHqA",
        "outputId": "f89c0137-3cdb-48ae-a46b-c38c21fdcb50"
      },
      "execution_count": null,
      "outputs": [
        {
          "output_type": "display_data",
          "data": {
            "text/plain": [
              "<Figure size 1152x720 with 1 Axes>"
            ],
            "image/png": "[encoded data removed]"
          },
          "metadata": {
            "needs_background": "light"
          }
        }
      ]
    },
    {
      "cell_type": "code",
      "source": [
        "#count by occupation\n",
        "count_by_occupation2 = user_fields.map(lambda fields: fields[3]).countByValue()\n",
        "print (\"Map-reduce approach:\")\n",
        "print (dict(count_by_occupation2))\n",
        "print (\"\")\n",
        "print (\"countByValue approach:\")\n",
        "print (dict(count_by_occupation))"
      ],
      "metadata": {
        "colab": {
          "base_uri": "https://localhost:8080/"
        },
        "id": "UQGDWiK2qknE",
        "outputId": "c3d153ae-6f93-42ac-bf45-3d1bafb0e3bb"
      },
      "execution_count": null,
      "outputs": [
        {
          "output_type": "stream",
          "name": "stdout",
          "text": [
            "Map-reduce approach:\n",
            "{'technician': 27, 'other': 105, 'writer': 45, 'executive': 32, 'administrator': 79, 'student': 196, 'lawyer': 12, 'educator': 95, 'scientist': 31, 'entertainment': 18, 'programmer': 66, 'librarian': 51, 'homemaker': 7, 'artist': 28, 'engineer': 67, 'marketing': 26, 'none': 9, 'healthcare': 16, 'retired': 14, 'salesman': 12, 'doctor': 7}\n",
            "\n",
            "countByValue approach:\n",
            "{'other': 105, 'executive': 32, 'administrator': 79, 'student': 196, 'educator': 95, 'programmer': 66, 'homemaker': 7, 'artist': 28, 'engineer': 67, 'none': 9, 'retired': 14, 'doctor': 7, 'technician': 27, 'writer': 45, 'lawyer': 12, 'scientist': 31, 'entertainment': 18, 'librarian': 51, 'marketing': 26, 'healthcare': 16, 'salesman': 12}\n"
          ]
        }
      ]
    },
    {
      "cell_type": "code",
      "source": [
        "#movie data file\n",
        "\n",
        "movie_data = sc.textFile(\"/content/ml-100k/u.item\")\n",
        "print(movie_data.take(5))\n",
        "num_movies = movie_data.count()\n",
        "print(\"Movies: \", num_movies)"
      ],
      "metadata": {
        "colab": {
          "base_uri": "https://localhost:8080/"
        },
        "id": "-E7ZsIszqtSb",
        "outputId": "3abc54a6-d55b-4a3f-dd4b-69c16eaaae41"
      },
      "execution_count": null,
      "outputs": [
        {
          "output_type": "stream",
          "name": "stdout",
          "text": [
            "['1|Toy Story (1995)|01-Jan-1995||http://us.imdb.com/M/title-exact?Toy%20Story%20(1995)|0|0|0|1|1|1|0|0|0|0|0|0|0|0|0|0|0|0|0', '2|GoldenEye (1995)|01-Jan-1995||http://us.imdb.com/M/title-exact?GoldenEye%20(1995)|0|1|1|0|0|0|0|0|0|0|0|0|0|0|0|0|1|0|0', '3|Four Rooms (1995)|01-Jan-1995||http://us.imdb.com/M/title-exact?Four%20Rooms%20(1995)|0|0|0|0|0|0|0|0|0|0|0|0|0|0|0|0|1|0|0', '4|Get Shorty (1995)|01-Jan-1995||http://us.imdb.com/M/title-exact?Get%20Shorty%20(1995)|0|1|0|0|0|1|0|0|1|0|0|0|0|0|0|0|0|0|0', '5|Copycat (1995)|01-Jan-1995||http://us.imdb.com/M/title-exact?Copycat%20(1995)|0|0|0|0|0|0|1|0|1|0|0|0|0|0|0|0|1|0|0']\n",
            "Movies:  1682\n"
          ]
        }
      ]
    },
    {
      "cell_type": "code",
      "source": [
        "def convert_year(x):\n",
        " try:\n",
        "   return int(x[-4:])\n",
        "\n",
        " except:\n",
        "   return 1900 # there is a 'bad' data point with a blank year, which we set to 1900 and will filter out later"
      ],
      "metadata": {
        "id": "QaZ1ZucEqznl"
      },
      "execution_count": null,
      "outputs": []
    },
    {
      "cell_type": "code",
      "source": [
        "movie_fields = movie_data.map(lambda lines: lines.split(\"|\"))\n",
        "years = movie_fields.map(lambda fields: fields[2]).map(lambda x: convert_year(x))"
      ],
      "metadata": {
        "id": "heAcW6x_q3M8"
      },
      "execution_count": null,
      "outputs": []
    },
    {
      "cell_type": "code",
      "source": [
        "#Data exploration is very important as real-world dataseta are messy---needs parsing of data\n",
        "#filter the bad values\n",
        "years_filtered = years.filter(lambda x: x != 1900)"
      ],
      "metadata": {
        "id": "hj2TunpVq32T"
      },
      "execution_count": null,
      "outputs": []
    },
    {
      "cell_type": "code",
      "source": [
        "# transform the list of movie release years into movie ages by subtracting the current year\n",
        "movie_ages = years_filtered.map(lambda yr: 1998-yr).countByValue()\n",
        "values = movie_ages.values()\n",
        "bins = movie_ages.keys()\n",
        "type(bins)\n",
        "#plt.hist(values, list(bins), color='lightblue')\n",
        "\n",
        "plt.bar(values, list(bins), color='lightblue')\n",
        "fig = matplotlib.pyplot.gcf()\n",
        "fig.set_size_inches(16,10)\n",
        "plt.show()\n"
      ],
      "metadata": {
        "colab": {
          "base_uri": "https://localhost:8080/",
          "height": 592
        },
        "id": "E-7KBC3mq5TM",
        "outputId": "47ac7076-b8fd-4f57-95a0-bbb188916645"
      },
      "execution_count": null,
      "outputs": [
        {
          "output_type": "display_data",
          "data": {
            "text/plain": [
              "<Figure size 1152x720 with 1 Axes>"
            ],
            "image/png": "[encoded data removed]"
          },
          "metadata": {
            "needs_background": "light"
          }
        }
      ]
    },
    {
      "cell_type": "code",
      "source": [
        "rating_data_raw = sc.textFile(\"/content/ml-100k/u.data\")\n",
        "print(rating_data_raw.first())\n",
        "num_ratings = rating_data_raw.count()\n",
        "print(\"Ratings:\", num_ratings)"
      ],
      "metadata": {
        "colab": {
          "base_uri": "https://localhost:8080/"
        },
        "id": "pgiaHWT-q6sK",
        "outputId": "50d24feb-f541-4568-adeb-3c2837e71c0f"
      },
      "execution_count": null,
      "outputs": [
        {
          "output_type": "stream",
          "name": "stdout",
          "text": [
            "196\t242\t3\t881250949\n",
            "Ratings: 100000\n"
          ]
        }
      ]
    },
    {
      "cell_type": "code",
      "source": [
        "rating_data = rating_data_raw.map(lambda line: line.split(\"\\t\"))\n",
        "ratings = rating_data.map(lambda fields: int(fields[2]))\n",
        "max_rating = ratings.reduce(lambda x, y: max(x, y))\n",
        "min_rating = ratings.reduce(lambda x, y: min(x, y))\n",
        "mean_rating = ratings.reduce(lambda x, y: x + y) / num_ratings\n",
        "median_rating = np.median(ratings.collect())\n",
        "ratings_per_user = num_ratings / num_users\n",
        "ratings_per_movie = num_ratings / num_movies\n",
        "print(\"Min rating:\", min_rating)\n",
        "print(\"Max rating:\", max_rating)\n",
        "print(\"Average rating:\", mean_rating)\n",
        "print(\"Median rating:\", median_rating)\n",
        "print(\"Average # of ratings per user:\", ratings_per_user)\n",
        "print(\"Average # of ratings per movie:\", ratings_per_movie)"
      ],
      "metadata": {
        "colab": {
          "base_uri": "https://localhost:8080/"
        },
        "id": "8jLDgZVrq-HT",
        "outputId": "39c44ab7-71fd-4f75-d3da-3df0926addb5"
      },
      "execution_count": null,
      "outputs": [
        {
          "output_type": "stream",
          "name": "stdout",
          "text": [
            "Min rating: 1\n",
            "Max rating: 5\n",
            "Average rating: 3.52986\n",
            "Median rating: 4.0\n",
            "Average # of ratings per user: 106.04453870625663\n",
            "Average # of ratings per movie: 59.45303210463734\n"
          ]
        }
      ]
    },
    {
      "cell_type": "code",
      "source": [
        "ratings.stats()"
      ],
      "metadata": {
        "colab": {
          "base_uri": "https://localhost:8080/"
        },
        "id": "WoIlJXFCrEOR",
        "outputId": "4518f471-af3e-40a2-b13e-391a86ba6f7a"
      },
      "execution_count": null,
      "outputs": [
        {
          "output_type": "execute_result",
          "data": {
            "text/plain": [
              "(count: 100000, mean: 3.5298600000000024, stdev: 1.125667970762251, max: 5.0, min: 1.0)"
            ]
          },
          "metadata": {},
          "execution_count": 56
        }
      ]
    },
    {
      "cell_type": "code",
      "source": [
        "from pyspark.mllib.recommendation import ALS, MatrixFactorizationModel, Rating\n",
        "\n",
        "# Load and parse the data\n",
        "data = sc.textFile(\"/content/spark-3.2.1-bin-hadoop3.2/data/mllib/als/test.data\")\n",
        "ratings = data.map(lambda l: l.split(','))\\\n",
        "    .map(lambda l: Rating(int(l[0]), int(l[1]), float(l[2])))\n",
        "\n",
        "# Build the recommendation model using Alternating Least Squares\n",
        "rank = 10\n",
        "numIterations = 10\n",
        "model = ALS.trainImplicit(ratings, rank, numIterations, alpha=0.01)\n",
        "\n",
        "# Evaluate the model on training data\n",
        "testdata = ratings.map(lambda p: (p[0], p[1]))\n",
        "predictions = model.predictAll(testdata).map(lambda r: ((r[0], r[1]), r[2]))\n",
        "ratesAndPreds = ratings.map(lambda r: ((r[0], r[1]), r[2])).join(predictions)\n",
        "MSE = ratesAndPreds.map(lambda r: (r[1][0] - r[1][1])**2).mean()\n",
        "print(\"Mean Squared Error = \" + str(MSE))\n",
        "\n",
        "# Save and load model\n",
        "model.save(sc, \"target/tmp/myCollaborativeFilter\")\n",
        "sameModel = MatrixFactorizationModel.load(sc, \"target/tmp/myCollaborativeFilter\")"
      ],
      "metadata": {
        "colab": {
          "base_uri": "https://localhost:8080/"
        },
        "id": "X8KeTBAnrGkN",
        "outputId": "f0ff116c-fb0e-4e83-e41f-bdfeb8abf51d"
      },
      "execution_count": null,
      "outputs": [
        {
          "output_type": "stream",
          "name": "stdout",
          "text": [
            "Mean Squared Error = 8.021118371999982\n"
          ]
        }
      ]
    },
    {
      "cell_type": "code",
      "source": [
        "data.collect()"
      ],
      "metadata": {
        "colab": {
          "base_uri": "https://localhost:8080/"
        },
        "id": "fRnelHewrMNX",
        "outputId": "09c490af-1cc6-4a00-f3ab-0bb2cf44cd86"
      },
      "execution_count": null,
      "outputs": [
        {
          "output_type": "execute_result",
          "data": {
            "text/plain": [
              "['1,1,5.0',\n",
              " '1,2,1.0',\n",
              " '1,3,5.0',\n",
              " '1,4,1.0',\n",
              " '2,1,5.0',\n",
              " '2,2,1.0',\n",
              " '2,3,5.0',\n",
              " '2,4,1.0',\n",
              " '3,1,1.0',\n",
              " '3,2,5.0',\n",
              " '3,3,1.0',\n",
              " '3,4,5.0',\n",
              " '4,1,1.0',\n",
              " '4,2,5.0',\n",
              " '4,3,1.0',\n",
              " '4,4,5.0']"
            ]
          },
          "metadata": {},
          "execution_count": 59
        }
      ]
    },
    {
      "cell_type": "code",
      "source": [
        "ratings.collect()"
      ],
      "metadata": {
        "colab": {
          "base_uri": "https://localhost:8080/"
        },
        "id": "WLXdX1_drwVs",
        "outputId": "d3f7cd4e-1a3a-454c-98fe-d18f0943085b"
      },
      "execution_count": null,
      "outputs": [
        {
          "output_type": "execute_result",
          "data": {
            "text/plain": [
              "[Rating(user=1, product=1, rating=5.0),\n",
              " Rating(user=1, product=2, rating=1.0),\n",
              " Rating(user=1, product=3, rating=5.0),\n",
              " Rating(user=1, product=4, rating=1.0),\n",
              " Rating(user=2, product=1, rating=5.0),\n",
              " Rating(user=2, product=2, rating=1.0),\n",
              " Rating(user=2, product=3, rating=5.0),\n",
              " Rating(user=2, product=4, rating=1.0),\n",
              " Rating(user=3, product=1, rating=1.0),\n",
              " Rating(user=3, product=2, rating=5.0),\n",
              " Rating(user=3, product=3, rating=1.0),\n",
              " Rating(user=3, product=4, rating=5.0),\n",
              " Rating(user=4, product=1, rating=1.0),\n",
              " Rating(user=4, product=2, rating=5.0),\n",
              " Rating(user=4, product=3, rating=1.0),\n",
              " Rating(user=4, product=4, rating=5.0)]"
            ]
          },
          "metadata": {},
          "execution_count": 60
        }
      ]
    },
    {
      "cell_type": "code",
      "source": [
        "testdata.collect()"
      ],
      "metadata": {
        "colab": {
          "base_uri": "https://localhost:8080/"
        },
        "id": "V-PLn6PYr0Jt",
        "outputId": "2328456d-2488-49b1-9050-3a36fbcdbefa"
      },
      "execution_count": null,
      "outputs": [
        {
          "output_type": "execute_result",
          "data": {
            "text/plain": [
              "[(1, 1),\n",
              " (1, 2),\n",
              " (1, 3),\n",
              " (1, 4),\n",
              " (2, 1),\n",
              " (2, 2),\n",
              " (2, 3),\n",
              " (2, 4),\n",
              " (3, 1),\n",
              " (3, 2),\n",
              " (3, 3),\n",
              " (3, 4),\n",
              " (4, 1),\n",
              " (4, 2),\n",
              " (4, 3),\n",
              " (4, 4)]"
            ]
          },
          "metadata": {},
          "execution_count": 61
        }
      ]
    },
    {
      "cell_type": "code",
      "source": [
        "predictions.collect()"
      ],
      "metadata": {
        "colab": {
          "base_uri": "https://localhost:8080/"
        },
        "id": "pLFoxlfVr24Y",
        "outputId": "ef8813a4-e1ea-4c70-9c59-d5567e21bef3"
      },
      "execution_count": null,
      "outputs": [
        {
          "output_type": "execute_result",
          "data": {
            "text/plain": [
              "[((4, 4), 0.9947273571905537),\n",
              " ((4, 2), 0.9947273571905537),\n",
              " ((4, 1), 0.9947273571905537),\n",
              " ((4, 3), 0.9947273571905537),\n",
              " ((2, 4), 0.9947273571905537),\n",
              " ((2, 2), 0.9947273571905537),\n",
              " ((2, 1), 0.9947273571905537),\n",
              " ((2, 3), 0.9947273571905537),\n",
              " ((1, 4), 0.9947273571905537),\n",
              " ((1, 2), 0.9947273571905537),\n",
              " ((1, 1), 0.9947273571905537),\n",
              " ((1, 3), 0.9947273571905537),\n",
              " ((3, 4), 0.9947273571905537),\n",
              " ((3, 2), 0.9947273571905537),\n",
              " ((3, 1), 0.9947273571905537),\n",
              " ((3, 3), 0.9947273571905537)]"
            ]
          },
          "metadata": {},
          "execution_count": 62
        }
      ]
    },
    {
      "cell_type": "code",
      "source": [
        "ratesAndPreds.collect()"
      ],
      "metadata": {
        "colab": {
          "base_uri": "https://localhost:8080/"
        },
        "id": "-mELCcP1r5ms",
        "outputId": "70380e8a-6222-4150-b68a-31f9e2707dca"
      },
      "execution_count": null,
      "outputs": [
        {
          "output_type": "execute_result",
          "data": {
            "text/plain": [
              "[((1, 1), (5.0, 0.9947273571905537)),\n",
              " ((2, 4), (1.0, 0.9947273571905537)),\n",
              " ((3, 3), (1.0, 0.9947273571905537)),\n",
              " ((4, 2), (5.0, 0.9947273571905537)),\n",
              " ((1, 2), (1.0, 0.9947273571905537)),\n",
              " ((2, 3), (5.0, 0.9947273571905537)),\n",
              " ((3, 4), (5.0, 0.9947273571905537)),\n",
              " ((4, 1), (1.0, 0.9947273571905537)),\n",
              " ((1, 3), (5.0, 0.9947273571905537)),\n",
              " ((2, 2), (1.0, 0.9947273571905537)),\n",
              " ((3, 1), (1.0, 0.9947273571905537)),\n",
              " ((4, 4), (5.0, 0.9947273571905537)),\n",
              " ((1, 4), (1.0, 0.9947273571905537)),\n",
              " ((2, 1), (5.0, 0.9947273571905537)),\n",
              " ((3, 2), (5.0, 0.9947273571905537)),\n",
              " ((4, 3), (1.0, 0.9947273571905537))]"
            ]
          },
          "metadata": {},
          "execution_count": 63
        }
      ]
    },
    {
      "cell_type": "code",
      "source": [],
      "metadata": {
        "id": "XnqGcHVRr7hk"
      },
      "execution_count": null,
      "outputs": []
    }
  ]
}